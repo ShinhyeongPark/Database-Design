{
  "nbformat": 4,
  "nbformat_minor": 0,
  "metadata": {
    "colab": {
      "name": "webscrapping.py",
      "provenance": [],
      "authorship_tag": "ABX9TyPHsthyo6XxFL/ml5xyFl/O",
      "include_colab_link": true
    },
    "kernelspec": {
      "name": "python3",
      "display_name": "Python 3"
    }
  },
  "cells": [
    {
      "cell_type": "markdown",
      "metadata": {
        "id": "view-in-github",
        "colab_type": "text"
      },
      "source": [
        "<a href=\"https://colab.research.google.com/github/parksh-db/database/blob/master/webscrapping_py.ipynb\" target=\"_parent\"><img src=\"https://colab.research.google.com/assets/colab-badge.svg\" alt=\"Open In Colab\"/></a>"
      ]
    },
    {
      "cell_type": "code",
      "metadata": {
        "id": "EovLyfs1FRSu"
      },
      "source": [
        "import requests\n",
        "from bs4 import BeautifulSoup\n",
        "from urllib.parse import urljoin"
      ],
      "execution_count": 36,
      "outputs": []
    },
    {
      "cell_type": "code",
      "metadata": {
        "colab": {
          "base_uri": "https://localhost:8080/"
        },
        "id": "ANbAbA6SGITi",
        "outputId": "da792762-bc00-4bcb-f278-e4921dca91e7"
      },
      "source": [
        "url = 'https://news.naver.com/'\n",
        "\n",
        "req_header={\n",
        "    'user_agent':'Mozilla/5.0 (Macintosh; Intel Mac OS X 10_15_7) AppleWebKit/537.36 (KHTML, like Gecko) Chrome/87.0.4280.88 Safari/537.36'\n",
        "}\n",
        "res = requests.get(url, headers=req_header)\n",
        "print(type(res))\n",
        "print(res.status_code)"
      ],
      "execution_count": 37,
      "outputs": [
        {
          "output_type": "stream",
          "text": [
            "<class 'requests.models.Response'>\n",
            "403\n"
          ],
          "name": "stdout"
        }
      ]
    },
    {
      "cell_type": "code",
      "metadata": {
        "id": "mI8Z8dkvQBv3"
      },
      "source": [
        "if res.ok:\n",
        "  html = res.text\n",
        "  soup = BeautifulSoup(html, 'html.parser')\n",
        "  atag_list = soup.select(\"a[href*='read.nhn']\")\n",
        "  print(type(atag_list), len(atag_list))\n",
        "\n",
        "  for idx,atag in enumerate(atag_list,1):\n",
        "    title = atag.text.strip()\n",
        "    link = atag['href']\n",
        "    print(idx, title, link)"
      ],
      "execution_count": 38,
      "outputs": []
    },
    {
      "cell_type": "markdown",
      "metadata": {
        "id": "F5gMtEQbWJ2J"
      },
      "source": [
        "Papago 번역 API 호출\n",
        "- urllib를 사용한 예제코드"
      ]
    },
    {
      "cell_type": "code",
      "metadata": {
        "colab": {
          "base_uri": "https://localhost:8080/"
        },
        "id": "SlRDw8BXV4eR",
        "outputId": "957ea82d-0108-46df-bce0-1dcdd90bb84c"
      },
      "source": [
        "import os\n",
        "import sys\n",
        "import urllib.request\n",
        "client_id = \"_Og94xA4jG6d6DQFdH14\" # 개발자센터에서 발급받은 Client ID 값\n",
        "client_secret = \"Zy7RZq33W8\" # 개발자센터에서 발급받은 Client Secret 값\n",
        "encText = urllib.parse.quote(\"Yesterday all my troubles\")\n",
        "data = \"source=en&target=ko&text=\" + encText\n",
        "url = \"https://openapi.naver.com/v1/papago/n2mt\"\n",
        "request = urllib.request.Request(url)\n",
        "request.add_header(\"X-Naver-Client-Id\",client_id)\n",
        "request.add_header(\"X-Naver-Client-Secret\",client_secret)\n",
        "response = urllib.request.urlopen(request, data=data.encode(\"utf-8\"))\n",
        "rescode = response.getcode()\n",
        "if(rescode==200):\n",
        "    response_body = response.read()\n",
        "    print(response_body.decode('utf-8'))\n",
        "else:\n",
        "    print(\"Error Code:\" + rescode)"
      ],
      "execution_count": 40,
      "outputs": [
        {
          "output_type": "stream",
          "text": [
            "{\"message\":{\"@type\":\"response\",\"@service\":\"naverservice.nmt.proxy\",\"@version\":\"1.0.0\",\"result\":{\"srcLangType\":\"en\",\"tarLangType\":\"ko\",\"translatedText\":\"어제 나의 모든 문제들\",\"engineType\":\"N2MT\",\"pivot\":null}}}\n"
          ],
          "name": "stdout"
        }
      ]
    },
    {
      "cell_type": "markdown",
      "metadata": {
        "id": "8jF-V6eQAtSb"
      },
      "source": [
        "*이탤릭체 텍스트*# 새 섹션"
      ]
    }
  ]
}