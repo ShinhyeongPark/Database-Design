{
  "nbformat": 4,
  "nbformat_minor": 0,
  "metadata": {
    "colab": {
      "name": "webscrapping.py",
      "provenance": [],
      "authorship_tag": "ABX9TyPf6ypH4v7bYOD+8KG7RYBo",
      "include_colab_link": true
    },
    "kernelspec": {
      "name": "python3",
      "display_name": "Python 3"
    }
  },
  "cells": [
    {
      "cell_type": "markdown",
      "metadata": {
        "id": "view-in-github",
        "colab_type": "text"
      },
      "source": [
        "<a href=\"https://colab.research.google.com/github/parksh-db/database/blob/master/webscrapping_py.ipynb\" target=\"_parent\"><img src=\"https://colab.research.google.com/assets/colab-badge.svg\" alt=\"Open In Colab\"/></a>"
      ]
    },
    {
      "cell_type": "code",
      "metadata": {
        "id": "EovLyfs1FRSu"
      },
      "source": [
        "import requests\n",
        "from bs4 import BeautifulSoup\n",
        "from urllib.parse import urljoin"
      ],
      "execution_count": 36,
      "outputs": []
    },
    {
      "cell_type": "code",
      "metadata": {
        "colab": {
          "base_uri": "https://localhost:8080/"
        },
        "id": "ANbAbA6SGITi",
        "outputId": "da792762-bc00-4bcb-f278-e4921dca91e7"
      },
      "source": [
        "url = 'https://news.naver.com/'\n",
        "\n",
        "req_header={\n",
        "    'user_agent':'Mozilla/5.0 (Macintosh; Intel Mac OS X 10_15_7) AppleWebKit/537.36 (KHTML, like Gecko) Chrome/87.0.4280.88 Safari/537.36'\n",
        "}\n",
        "res = requests.get(url, headers=req_header)\n",
        "print(type(res))\n",
        "print(res.status_code)"
      ],
      "execution_count": 37,
      "outputs": [
        {
          "output_type": "stream",
          "text": [
            "<class 'requests.models.Response'>\n",
            "403\n"
          ],
          "name": "stdout"
        }
      ]
    },
    {
      "cell_type": "code",
      "metadata": {
        "id": "mI8Z8dkvQBv3"
      },
      "source": [
        "if res.ok:\n",
        "  html = res.text\n",
        "  soup = BeautifulSoup(html, 'html.parser')\n",
        "  atag_list = soup.select(\"a[href*='read.nhn']\")\n",
        "  print(type(atag_list), len(atag_list))\n",
        "\n",
        "  for idx,atag in enumerate(atag_list,1):\n",
        "    title = atag.text.strip()\n",
        "    link = atag['href']\n",
        "    print(idx, title, link)"
      ],
      "execution_count": 38,
      "outputs": []
    },
    {
      "cell_type": "markdown",
      "metadata": {
        "id": "F5gMtEQbWJ2J"
      },
      "source": [
        "Papago 번역 API 호출\n",
        "- urllib를 사용한 예제코드"
      ]
    },
    {
      "cell_type": "code",
      "metadata": {
        "colab": {
          "base_uri": "https://localhost:8080/"
        },
        "id": "SlRDw8BXV4eR",
        "outputId": "957ea82d-0108-46df-bce0-1dcdd90bb84c"
      },
      "source": [
        "import os\n",
        "import sys\n",
        "import urllib.request\n",
        "client_id = \"_Og94xA4jG6d6DQFdH14\" # 개발자센터에서 발급받은 Client ID 값\n",
        "client_secret = \"Zy7RZq33W8\" # 개발자센터에서 발급받은 Client Secret 값\n",
        "encText = urllib.parse.quote(\"Yesterday all my troubles\")\n",
        "data = \"source=en&target=ko&text=\" + encText\n",
        "url = \"https://openapi.naver.com/v1/papago/n2mt\"\n",
        "request = urllib.request.Request(url)\n",
        "request.add_header(\"X-Naver-Client-Id\",client_id)\n",
        "request.add_header(\"X-Naver-Client-Secret\",client_secret)\n",
        "response = urllib.request.urlopen(request, data=data.encode(\"utf-8\"))\n",
        "rescode = response.getcode()\n",
        "if(rescode==200):\n",
        "    response_body = response.read()\n",
        "    print(response_body.decode('utf-8'))\n",
        "else:\n",
        "    print(\"Error Code:\" + rescode)"
      ],
      "execution_count": 40,
      "outputs": [
        {
          "output_type": "stream",
          "text": [
            "{\"message\":{\"@type\":\"response\",\"@service\":\"naverservice.nmt.proxy\",\"@version\":\"1.0.0\",\"result\":{\"srcLangType\":\"en\",\"tarLangType\":\"ko\",\"translatedText\":\"어제 나의 모든 문제들\",\"engineType\":\"N2MT\",\"pivot\":null}}}\n"
          ],
          "name": "stdout"
        }
      ]
    },
    {
      "cell_type": "code",
      "metadata": {
        "colab": {
          "base_uri": "https://localhost:8080/"
        },
        "id": "9vxWCkqgbUsz",
        "outputId": "c1bfbb2f-86df-4fbf-87f2-d9f95533be3d"
      },
      "source": [
        "import requests\n",
        "client_id = \"_Og94xA4jG6d6DQFdH14\" # 개발자센터에서 발급받은 Client ID 값\n",
        "client_secret = \"Zy7RZq33W8\" # 개발자센터에서 발급받은 Client Secret 값\n",
        "encText = \"Yesterday all my troubles\"\n",
        "url = \"https://openapi.naver.com/v1/papago/n2mt\"\n",
        "\n",
        "req_header = {\n",
        "    \"X-Naver-Client-Id\":client_id,\n",
        "    \"X-Naver-Client-Secret\":client_secret\n",
        "}\n",
        "\n",
        "req_param = {\n",
        "    \"source\":\"en\",\n",
        "    \"targer\":\"ko\",\n",
        "    \"text\": encText\n",
        "}\n",
        "\n",
        "res = requests.post(url,data=req_param, headers= req_header)\n",
        "print(res.ok, res.status_code)\n",
        "print(res.request.headers)\n",
        "print(res.headers)"
      ],
      "execution_count": 49,
      "outputs": [
        {
          "output_type": "stream",
          "text": [
            "False 500\n",
            "{'User-Agent': 'python-requests/2.23.0', 'Accept-Encoding': 'gzip, deflate', 'Accept': '*/*', 'Connection': 'keep-alive', 'X-Naver-Client-Id': '_Og94xA4jG6d6DQFdH14', 'X-Naver-Client-Secret': 'Zy7RZq33W8', 'Content-Length': '50', 'Content-Type': 'application/x-www-form-urlencoded'}\n",
            "{'Server': 'nginx', 'Date': 'Tue, 05 Jan 2021 07:33:11 GMT', 'Content-Type': 'application/json; charset=UTF-8', 'Content-Length': '59', 'Connection': 'keep-alive', 'Keep-Alive': 'timeout=5', 'ETag': 'W/\"3b-ni2bJaI+WKvCU3MRuJDgkQ\"', 'Apigw-Error': '084'}\n"
          ],
          "name": "stdout"
        }
      ]
    },
    {
      "cell_type": "code",
      "metadata": {
        "colab": {
          "base_uri": "https://localhost:8080/",
          "height": 232
        },
        "id": "z3V5cNQ1fQAj",
        "outputId": "ea9c52d8-edaa-4476-814b-2c7b307a6710"
      },
      "source": [
        "result_json = res.json()\n",
        "\n",
        "print(type(result_json), result_json)\n",
        "result_text = result_json['message']['result']['translatedText']\n",
        "print(result_text)"
      ],
      "execution_count": 50,
      "outputs": [
        {
          "output_type": "stream",
          "text": [
            "<class 'dict'> {'errorMessage': 'Internal Server Error', 'errorCode': 'XX99'}\n"
          ],
          "name": "stdout"
        },
        {
          "output_type": "error",
          "ename": "KeyError",
          "evalue": "ignored",
          "traceback": [
            "\u001b[0;31m---------------------------------------------------------------------------\u001b[0m",
            "\u001b[0;31mKeyError\u001b[0m                                  Traceback (most recent call last)",
            "\u001b[0;32m<ipython-input-50-da3279df6daa>\u001b[0m in \u001b[0;36m<module>\u001b[0;34m()\u001b[0m\n\u001b[1;32m      2\u001b[0m \u001b[0;34m\u001b[0m\u001b[0m\n\u001b[1;32m      3\u001b[0m \u001b[0mprint\u001b[0m\u001b[0;34m(\u001b[0m\u001b[0mtype\u001b[0m\u001b[0;34m(\u001b[0m\u001b[0mresult_json\u001b[0m\u001b[0;34m)\u001b[0m\u001b[0;34m,\u001b[0m \u001b[0mresult_json\u001b[0m\u001b[0;34m)\u001b[0m\u001b[0;34m\u001b[0m\u001b[0;34m\u001b[0m\u001b[0m\n\u001b[0;32m----> 4\u001b[0;31m \u001b[0mresult_text\u001b[0m \u001b[0;34m=\u001b[0m \u001b[0mresult_json\u001b[0m\u001b[0;34m[\u001b[0m\u001b[0;34m'message'\u001b[0m\u001b[0;34m]\u001b[0m\u001b[0;34m[\u001b[0m\u001b[0;34m'result'\u001b[0m\u001b[0;34m]\u001b[0m\u001b[0;34m[\u001b[0m\u001b[0;34m'translatedText'\u001b[0m\u001b[0;34m]\u001b[0m\u001b[0;34m\u001b[0m\u001b[0;34m\u001b[0m\u001b[0m\n\u001b[0m\u001b[1;32m      5\u001b[0m \u001b[0mprint\u001b[0m\u001b[0;34m(\u001b[0m\u001b[0mresult_text\u001b[0m\u001b[0;34m)\u001b[0m\u001b[0;34m\u001b[0m\u001b[0;34m\u001b[0m\u001b[0m\n",
            "\u001b[0;31mKeyError\u001b[0m: 'message'"
          ]
        }
      ]
    },
    {
      "cell_type": "markdown",
      "metadata": {
        "id": "8jF-V6eQAtSb"
      },
      "source": [
        "*이탤릭체 텍스트*# 새 섹션"
      ]
    }
  ]
}